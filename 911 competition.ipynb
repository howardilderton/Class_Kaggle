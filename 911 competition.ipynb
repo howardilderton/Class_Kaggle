{
 "cells": [
  {
   "cell_type": "code",
   "execution_count": 1,
   "metadata": {
    "collapsed": true
   },
   "outputs": [],
   "source": [
    "#import libraries\n",
    "%matplotlib inline\n",
    "import pandas as pd\n",
    "import numpy as np\n",
    "import re\n",
    "from geopy.geocoders import Nominatim\n",
    "from sklearn import preprocessing, cross_validation, linear_model, tree, ensemble, metrics, feature_extraction"
   ]
  },
  {
   "cell_type": "code",
   "execution_count": 2,
   "metadata": {
    "collapsed": false
   },
   "outputs": [
    {
     "data": {
      "text/html": [
       "<div>\n",
       "<table border=\"1\" class=\"dataframe\">\n",
       "  <thead>\n",
       "    <tr style=\"text-align: right;\">\n",
       "      <th></th>\n",
       "      <th>lat</th>\n",
       "      <th>lng</th>\n",
       "      <th>desc</th>\n",
       "      <th>zip</th>\n",
       "      <th>timeStamp</th>\n",
       "      <th>twp</th>\n",
       "      <th>addr</th>\n",
       "      <th>e</th>\n",
       "      <th>emergencytype</th>\n",
       "      <th>emergencysubtype</th>\n",
       "    </tr>\n",
       "    <tr>\n",
       "      <th>id</th>\n",
       "      <th></th>\n",
       "      <th></th>\n",
       "      <th></th>\n",
       "      <th></th>\n",
       "      <th></th>\n",
       "      <th></th>\n",
       "      <th></th>\n",
       "      <th></th>\n",
       "      <th></th>\n",
       "      <th></th>\n",
       "    </tr>\n",
       "  </thead>\n",
       "  <tbody>\n",
       "    <tr>\n",
       "      <th>0</th>\n",
       "      <td>40.297876</td>\n",
       "      <td>-75.581294</td>\n",
       "      <td>REINDEER CT &amp; DEAD END;  NEW HANOVER; Station ...</td>\n",
       "      <td>19525.0</td>\n",
       "      <td>2015-12-10 17:40:00</td>\n",
       "      <td>NEW HANOVER</td>\n",
       "      <td>REINDEER CT &amp; DEAD END</td>\n",
       "      <td>1</td>\n",
       "      <td>EMS</td>\n",
       "      <td>BACK PAINS/INJURY</td>\n",
       "    </tr>\n",
       "    <tr>\n",
       "      <th>1</th>\n",
       "      <td>40.258061</td>\n",
       "      <td>-75.264680</td>\n",
       "      <td>BRIAR PATH &amp; WHITEMARSH LN;  HATFIELD TOWNSHIP...</td>\n",
       "      <td>19446.0</td>\n",
       "      <td>2015-12-10 17:40:00</td>\n",
       "      <td>HATFIELD TOWNSHIP</td>\n",
       "      <td>BRIAR PATH &amp; WHITEMARSH LN</td>\n",
       "      <td>1</td>\n",
       "      <td>EMS</td>\n",
       "      <td>DIABETIC EMERGENCY</td>\n",
       "    </tr>\n",
       "    <tr>\n",
       "      <th>2</th>\n",
       "      <td>40.121182</td>\n",
       "      <td>-75.351975</td>\n",
       "      <td>HAWS AVE; NORRISTOWN; 2015-12-10 @ 14:39:21-St...</td>\n",
       "      <td>19401.0</td>\n",
       "      <td>2015-12-10 17:40:00</td>\n",
       "      <td>NORRISTOWN</td>\n",
       "      <td>HAWS AVE</td>\n",
       "      <td>1</td>\n",
       "      <td>Fire</td>\n",
       "      <td>GAS-ODOR/LEAK</td>\n",
       "    </tr>\n",
       "    <tr>\n",
       "      <th>3</th>\n",
       "      <td>40.116153</td>\n",
       "      <td>-75.343513</td>\n",
       "      <td>AIRY ST &amp; SWEDE ST;  NORRISTOWN; Station 308A;...</td>\n",
       "      <td>19401.0</td>\n",
       "      <td>2015-12-10 17:40:01</td>\n",
       "      <td>NORRISTOWN</td>\n",
       "      <td>AIRY ST &amp; SWEDE ST</td>\n",
       "      <td>1</td>\n",
       "      <td>EMS</td>\n",
       "      <td>CARDIAC EMERGENCY</td>\n",
       "    </tr>\n",
       "    <tr>\n",
       "      <th>4</th>\n",
       "      <td>40.251492</td>\n",
       "      <td>-75.603350</td>\n",
       "      <td>CHERRYWOOD CT &amp; DEAD END;  LOWER POTTSGROVE; S...</td>\n",
       "      <td>NaN</td>\n",
       "      <td>2015-12-10 17:40:01</td>\n",
       "      <td>LOWER POTTSGROVE</td>\n",
       "      <td>CHERRYWOOD CT &amp; DEAD END</td>\n",
       "      <td>1</td>\n",
       "      <td>EMS</td>\n",
       "      <td>DIZZINESS</td>\n",
       "    </tr>\n",
       "  </tbody>\n",
       "</table>\n",
       "</div>"
      ],
      "text/plain": [
       "          lat        lng                                               desc  \\\n",
       "id                                                                            \n",
       "0   40.297876 -75.581294  REINDEER CT & DEAD END;  NEW HANOVER; Station ...   \n",
       "1   40.258061 -75.264680  BRIAR PATH & WHITEMARSH LN;  HATFIELD TOWNSHIP...   \n",
       "2   40.121182 -75.351975  HAWS AVE; NORRISTOWN; 2015-12-10 @ 14:39:21-St...   \n",
       "3   40.116153 -75.343513  AIRY ST & SWEDE ST;  NORRISTOWN; Station 308A;...   \n",
       "4   40.251492 -75.603350  CHERRYWOOD CT & DEAD END;  LOWER POTTSGROVE; S...   \n",
       "\n",
       "        zip            timeStamp                twp  \\\n",
       "id                                                    \n",
       "0   19525.0  2015-12-10 17:40:00        NEW HANOVER   \n",
       "1   19446.0  2015-12-10 17:40:00  HATFIELD TOWNSHIP   \n",
       "2   19401.0  2015-12-10 17:40:00         NORRISTOWN   \n",
       "3   19401.0  2015-12-10 17:40:01         NORRISTOWN   \n",
       "4       NaN  2015-12-10 17:40:01   LOWER POTTSGROVE   \n",
       "\n",
       "                          addr  e emergencytype    emergencysubtype  \n",
       "id                                                                   \n",
       "0       REINDEER CT & DEAD END  1           EMS   BACK PAINS/INJURY  \n",
       "1   BRIAR PATH & WHITEMARSH LN  1           EMS  DIABETIC EMERGENCY  \n",
       "2                     HAWS AVE  1          Fire       GAS-ODOR/LEAK  \n",
       "3           AIRY ST & SWEDE ST  1           EMS   CARDIAC EMERGENCY  \n",
       "4     CHERRYWOOD CT & DEAD END  1           EMS           DIZZINESS  "
      ]
     },
     "execution_count": 2,
     "metadata": {},
     "output_type": "execute_result"
    }
   ],
   "source": [
    "df = pd.read_csv(\"train_911.csv\", index_col='id')\n",
    "df.head()"
   ]
  },
  {
   "cell_type": "code",
   "execution_count": 3,
   "metadata": {
    "collapsed": false
   },
   "outputs": [],
   "source": [
    "#we have to delete the desc column as it includes information on the emergency type\n",
    "del df['desc']"
   ]
  },
  {
   "cell_type": "code",
   "execution_count": 4,
   "metadata": {
    "collapsed": false
   },
   "outputs": [
    {
     "name": "stdout",
     "output_type": "stream",
     "text": [
      "<class 'pandas.core.frame.DataFrame'>\n",
      "Int64Index: 77691 entries, 0 to 77690\n",
      "Data columns (total 9 columns):\n",
      "lat                 77691 non-null float64\n",
      "lng                 77691 non-null float64\n",
      "zip                 67675 non-null float64\n",
      "timeStamp           77691 non-null object\n",
      "twp                 77657 non-null object\n",
      "addr                77277 non-null object\n",
      "e                   77691 non-null int64\n",
      "emergencytype       77691 non-null object\n",
      "emergencysubtype    77691 non-null object\n",
      "dtypes: float64(3), int64(1), object(5)\n",
      "memory usage: 5.9+ MB\n"
     ]
    }
   ],
   "source": [
    "#check for NANs\n",
    "df.info()"
   ]
  },
  {
   "cell_type": "code",
   "execution_count": 5,
   "metadata": {
    "collapsed": true
   },
   "outputs": [],
   "source": [
    "#We have NANs in ZIP, twp and addr"
   ]
  },
  {
   "cell_type": "code",
   "execution_count": 6,
   "metadata": {
    "collapsed": false
   },
   "outputs": [
    {
     "data": {
      "text/plain": [
       "twp              zip    \n",
       "ABINGTON         19046.0    1382\n",
       "                 19001.0    1131\n",
       "                 19038.0     749\n",
       "                 19090.0     521\n",
       "                 19006.0     348\n",
       "                 19027.0     241\n",
       "                 NaN         237\n",
       "                 19095.0      23\n",
       "                 19111.0      16\n",
       "                 19025.0       7\n",
       "                 19040.0       5\n",
       "                 19002.0       3\n",
       "                 19012.0       3\n",
       "                 19115.0       3\n",
       "AMBLER           19002.0     459\n",
       "                 NaN          17\n",
       "                 19031.0       1\n",
       "BERKS COUNTY     NaN          89\n",
       "                 19512.0      74\n",
       "                 19518.0      44\n",
       "                 19504.0      10\n",
       "                 19505.0       4\n",
       "                 18056.0       3\n",
       "                 19503.0       3\n",
       "                 18092.0       2\n",
       "                 19464.0       1\n",
       "BRIDGEPORT       19405.0     298\n",
       "                 NaN          91\n",
       "                 19406.0      41\n",
       "                 19401.0       4\n",
       "                            ... \n",
       "WEST NORRITON    19401.0      16\n",
       "WEST POTTSGROVE  19464.0     366\n",
       "                 NaN          33\n",
       "WHITEMARSH       19444.0     772\n",
       "                 19428.0     303\n",
       "                 NaN         252\n",
       "                 19034.0     222\n",
       "                 19462.0     195\n",
       "                 19031.0      68\n",
       "                 19454.0      59\n",
       "                 19002.0      48\n",
       "                 19038.0      13\n",
       "                 19128.0      12\n",
       "                 19422.0      12\n",
       "                 19075.0       3\n",
       "WHITPAIN         19422.0    1422\n",
       "                 NaN         161\n",
       "                 19002.0     107\n",
       "                 19462.0      25\n",
       "                 19401.0       2\n",
       "                 19403.0       2\n",
       "                 19446.0       2\n",
       "WORCESTER        19446.0     249\n",
       "                 19403.0     197\n",
       "                 19426.0      86\n",
       "                 NaN          61\n",
       "                 19422.0      14\n",
       "                 19423.0       4\n",
       "                 19438.0       1\n",
       "                 19490.0       1\n",
       "Name: zip, dtype: int64"
      ]
     },
     "execution_count": 6,
     "metadata": {},
     "output_type": "execute_result"
    }
   ],
   "source": [
    "df.groupby('twp')['zip'].value_counts(dropna=False)"
   ]
  },
  {
   "cell_type": "code",
   "execution_count": 7,
   "metadata": {
    "collapsed": true
   },
   "outputs": [],
   "source": [
    "#This returns the full address from a pair of coordinates - we can use this to get the missing zip/twp data since we have lat/lng for all\n",
    "\n",
    "def get_address(lat, lng):\n",
    "    \n",
    "    geolocator = Nominatim()\n",
    "    location = geolocator.reverse([lat,lng])\n",
    "    return location.address"
   ]
  },
  {
   "cell_type": "code",
   "execution_count": 8,
   "metadata": {
    "collapsed": false
   },
   "outputs": [
    {
     "data": {
      "text/plain": [
       "u'2904, Lutheran Road, New Hanover Township, Montgomery County, Pennsylvania, 19525, United States of America'"
      ]
     },
     "execution_count": 8,
     "metadata": {},
     "output_type": "execute_result"
    }
   ],
   "source": [
    "#example:\n",
    "get_address(df.lat[0], df.lng[0])"
   ]
  },
  {
   "cell_type": "code",
   "execution_count": 9,
   "metadata": {
    "collapsed": false
   },
   "outputs": [
    {
     "data": {
      "text/html": [
       "<div>\n",
       "<table border=\"1\" class=\"dataframe\">\n",
       "  <thead>\n",
       "    <tr style=\"text-align: right;\">\n",
       "      <th></th>\n",
       "      <th>lat</th>\n",
       "      <th>lng</th>\n",
       "      <th>desc</th>\n",
       "      <th>zip</th>\n",
       "      <th>timeStamp</th>\n",
       "      <th>twp</th>\n",
       "      <th>addr</th>\n",
       "      <th>e</th>\n",
       "    </tr>\n",
       "    <tr>\n",
       "      <th>id</th>\n",
       "      <th></th>\n",
       "      <th></th>\n",
       "      <th></th>\n",
       "      <th></th>\n",
       "      <th></th>\n",
       "      <th></th>\n",
       "      <th></th>\n",
       "      <th></th>\n",
       "    </tr>\n",
       "  </thead>\n",
       "  <tbody>\n",
       "    <tr>\n",
       "      <th>77691</th>\n",
       "      <td>40.095171</td>\n",
       "      <td>-75.414699</td>\n",
       "      <td>1ST AVE &amp; FREEDOM DR;  UPPER MERION; Station 3...</td>\n",
       "      <td>19406.0</td>\n",
       "      <td>2016-06-29 14:37:02</td>\n",
       "      <td>UPPER MERION</td>\n",
       "      <td>1ST AVE &amp; FREEDOM DR</td>\n",
       "      <td>1</td>\n",
       "    </tr>\n",
       "    <tr>\n",
       "      <th>77692</th>\n",
       "      <td>40.130383</td>\n",
       "      <td>-75.482545</td>\n",
       "      <td>LONGFORD RD &amp; PORT PROVIDENCE RD; UPPER PROVID...</td>\n",
       "      <td>19460.0</td>\n",
       "      <td>2016-06-29 14:41:00</td>\n",
       "      <td>UPPER PROVIDENCE</td>\n",
       "      <td>LONGFORD RD &amp; PORT PROVIDENCE RD</td>\n",
       "      <td>1</td>\n",
       "    </tr>\n",
       "    <tr>\n",
       "      <th>77693</th>\n",
       "      <td>40.244012</td>\n",
       "      <td>-75.615480</td>\n",
       "      <td>BEECH ST &amp; HIGH ST; POTTSTOWN; 2016-06-29 @ 14...</td>\n",
       "      <td>19464.0</td>\n",
       "      <td>2016-06-29 14:41:01</td>\n",
       "      <td>POTTSTOWN</td>\n",
       "      <td>BEECH ST &amp; HIGH ST</td>\n",
       "      <td>1</td>\n",
       "    </tr>\n",
       "    <tr>\n",
       "      <th>77694</th>\n",
       "      <td>40.106577</td>\n",
       "      <td>-75.314605</td>\n",
       "      <td>MANOR AVE &amp; ZOAR RD;  PLYMOUTH; Station 308; 2...</td>\n",
       "      <td>19462.0</td>\n",
       "      <td>2016-06-29 14:42:00</td>\n",
       "      <td>PLYMOUTH</td>\n",
       "      <td>MANOR AVE &amp; ZOAR RD</td>\n",
       "      <td>1</td>\n",
       "    </tr>\n",
       "    <tr>\n",
       "      <th>77695</th>\n",
       "      <td>40.182374</td>\n",
       "      <td>-75.104914</td>\n",
       "      <td>YORK RD &amp; VILLAGE PL; HATBORO; 2016-06-29 @ 14...</td>\n",
       "      <td>19040.0</td>\n",
       "      <td>2016-06-29 14:42:01</td>\n",
       "      <td>HATBORO</td>\n",
       "      <td>YORK RD &amp; VILLAGE PL</td>\n",
       "      <td>1</td>\n",
       "    </tr>\n",
       "  </tbody>\n",
       "</table>\n",
       "</div>"
      ],
      "text/plain": [
       "             lat        lng  \\\n",
       "id                            \n",
       "77691  40.095171 -75.414699   \n",
       "77692  40.130383 -75.482545   \n",
       "77693  40.244012 -75.615480   \n",
       "77694  40.106577 -75.314605   \n",
       "77695  40.182374 -75.104914   \n",
       "\n",
       "                                                    desc      zip  \\\n",
       "id                                                                  \n",
       "77691  1ST AVE & FREEDOM DR;  UPPER MERION; Station 3...  19406.0   \n",
       "77692  LONGFORD RD & PORT PROVIDENCE RD; UPPER PROVID...  19460.0   \n",
       "77693  BEECH ST & HIGH ST; POTTSTOWN; 2016-06-29 @ 14...  19464.0   \n",
       "77694  MANOR AVE & ZOAR RD;  PLYMOUTH; Station 308; 2...  19462.0   \n",
       "77695  YORK RD & VILLAGE PL; HATBORO; 2016-06-29 @ 14...  19040.0   \n",
       "\n",
       "                 timeStamp               twp  \\\n",
       "id                                             \n",
       "77691  2016-06-29 14:37:02      UPPER MERION   \n",
       "77692  2016-06-29 14:41:00  UPPER PROVIDENCE   \n",
       "77693  2016-06-29 14:41:01         POTTSTOWN   \n",
       "77694  2016-06-29 14:42:00          PLYMOUTH   \n",
       "77695  2016-06-29 14:42:01           HATBORO   \n",
       "\n",
       "                                   addr  e  \n",
       "id                                          \n",
       "77691              1ST AVE & FREEDOM DR  1  \n",
       "77692  LONGFORD RD & PORT PROVIDENCE RD  1  \n",
       "77693                BEECH ST & HIGH ST  1  \n",
       "77694               MANOR AVE & ZOAR RD  1  \n",
       "77695              YORK RD & VILLAGE PL  1  "
      ]
     },
     "execution_count": 9,
     "metadata": {},
     "output_type": "execute_result"
    }
   ],
   "source": [
    "#Before we worry about the missing data let's quickly check the test file\n",
    "df_test = pd.read_csv(\"test_911.csv\", index_col='id')\n",
    "df_test.head()"
   ]
  },
  {
   "cell_type": "code",
   "execution_count": 10,
   "metadata": {
    "collapsed": false
   },
   "outputs": [
    {
     "name": "stdout",
     "output_type": "stream",
     "text": [
      "<class 'pandas.core.frame.DataFrame'>\n",
      "Int64Index: 19423 entries, 77691 to 97113\n",
      "Data columns (total 7 columns):\n",
      "lat          19423 non-null float64\n",
      "lng          19423 non-null float64\n",
      "zip          16923 non-null float64\n",
      "timeStamp    19423 non-null object\n",
      "twp          19416 non-null object\n",
      "addr         19333 non-null object\n",
      "e            19423 non-null int64\n",
      "dtypes: float64(3), int64(1), object(3)\n",
      "memory usage: 1.2+ MB\n"
     ]
    }
   ],
   "source": [
    "#we have to delete the desc column as it includes information on the emergency type\n",
    "del df_test['desc']\n",
    "df_test.info()"
   ]
  },
  {
   "cell_type": "code",
   "execution_count": 11,
   "metadata": {
    "collapsed": true
   },
   "outputs": [],
   "source": [
    "#so we also have missing zip, twp and addr data"
   ]
  },
  {
   "cell_type": "code",
   "execution_count": 12,
   "metadata": {
    "collapsed": true
   },
   "outputs": [],
   "source": [
    "#Convert datetime\n",
    "df.timeStamp = pd.to_datetime(df.timeStamp)\n",
    "df_test.timeStamp = pd.to_datetime(df_test.timeStamp)"
   ]
  },
  {
   "cell_type": "code",
   "execution_count": 13,
   "metadata": {
    "collapsed": false
   },
   "outputs": [],
   "source": [
    "#Let's try model just using lat/lng and timestamp since none of this is missing\n",
    "X = df[['lat','lng',]]\n",
    "\n",
    "#let's try changing the timestamp into hour and day and month as separate features\n",
    "X = pd.concat([X, df.timeStamp.dt.dayofweek, df.timeStamp.dt.hour, df.timeStamp.dt.month], axis=1)"
   ]
  },
  {
   "cell_type": "code",
   "execution_count": 14,
   "metadata": {
    "collapsed": false
   },
   "outputs": [
    {
     "data": {
      "text/html": [
       "<div>\n",
       "<table border=\"1\" class=\"dataframe\">\n",
       "  <thead>\n",
       "    <tr style=\"text-align: right;\">\n",
       "      <th></th>\n",
       "      <th>lat</th>\n",
       "      <th>lng</th>\n",
       "      <th>timeStamp</th>\n",
       "      <th>timeStamp</th>\n",
       "      <th>timeStamp</th>\n",
       "    </tr>\n",
       "    <tr>\n",
       "      <th>id</th>\n",
       "      <th></th>\n",
       "      <th></th>\n",
       "      <th></th>\n",
       "      <th></th>\n",
       "      <th></th>\n",
       "    </tr>\n",
       "  </thead>\n",
       "  <tbody>\n",
       "    <tr>\n",
       "      <th>0</th>\n",
       "      <td>40.297876</td>\n",
       "      <td>-75.581294</td>\n",
       "      <td>3</td>\n",
       "      <td>17</td>\n",
       "      <td>12</td>\n",
       "    </tr>\n",
       "    <tr>\n",
       "      <th>1</th>\n",
       "      <td>40.258061</td>\n",
       "      <td>-75.264680</td>\n",
       "      <td>3</td>\n",
       "      <td>17</td>\n",
       "      <td>12</td>\n",
       "    </tr>\n",
       "    <tr>\n",
       "      <th>2</th>\n",
       "      <td>40.121182</td>\n",
       "      <td>-75.351975</td>\n",
       "      <td>3</td>\n",
       "      <td>17</td>\n",
       "      <td>12</td>\n",
       "    </tr>\n",
       "    <tr>\n",
       "      <th>3</th>\n",
       "      <td>40.116153</td>\n",
       "      <td>-75.343513</td>\n",
       "      <td>3</td>\n",
       "      <td>17</td>\n",
       "      <td>12</td>\n",
       "    </tr>\n",
       "    <tr>\n",
       "      <th>4</th>\n",
       "      <td>40.251492</td>\n",
       "      <td>-75.603350</td>\n",
       "      <td>3</td>\n",
       "      <td>17</td>\n",
       "      <td>12</td>\n",
       "    </tr>\n",
       "  </tbody>\n",
       "</table>\n",
       "</div>"
      ],
      "text/plain": [
       "          lat        lng  timeStamp  timeStamp  timeStamp\n",
       "id                                                       \n",
       "0   40.297876 -75.581294          3         17         12\n",
       "1   40.258061 -75.264680          3         17         12\n",
       "2   40.121182 -75.351975          3         17         12\n",
       "3   40.116153 -75.343513          3         17         12\n",
       "4   40.251492 -75.603350          3         17         12"
      ]
     },
     "execution_count": 14,
     "metadata": {},
     "output_type": "execute_result"
    }
   ],
   "source": [
    "X.head()"
   ]
  },
  {
   "cell_type": "code",
   "execution_count": 15,
   "metadata": {
    "collapsed": true
   },
   "outputs": [],
   "source": [
    "#emergencytype is our target\n",
    "y = df.emergencytype"
   ]
  },
  {
   "cell_type": "code",
   "execution_count": 16,
   "metadata": {
    "collapsed": true
   },
   "outputs": [],
   "source": [
    "#Train test split\n",
    "X_train, X_test, y_train, y_test = cross_validation.train_test_split(X, y, test_size=0.2)"
   ]
  },
  {
   "cell_type": "code",
   "execution_count": 17,
   "metadata": {
    "collapsed": true
   },
   "outputs": [],
   "source": [
    "#let's try logistic first\n",
    "log_reg = linear_model.LogisticRegression()"
   ]
  },
  {
   "cell_type": "code",
   "execution_count": 18,
   "metadata": {
    "collapsed": false
   },
   "outputs": [
    {
     "data": {
      "text/plain": [
       "{'EMS': 0.48888209550778738,\n",
       " 'Fire': 0.14815291543313167,\n",
       " 'Traffic': 0.36296498905908098}"
      ]
     },
     "execution_count": 18,
     "metadata": {},
     "output_type": "execute_result"
    }
   ],
   "source": [
    "# sample weights (we mostly have EMS in our data)\n",
    "weights = dict(y_train.value_counts()/y_train.count())\n",
    "weights"
   ]
  },
  {
   "cell_type": "code",
   "execution_count": 19,
   "metadata": {
    "collapsed": false
   },
   "outputs": [],
   "source": [
    "#fit and predict\n",
    "log_reg.fit(X_train, y_train)\n",
    "y_pred = log_reg.predict(X_test)"
   ]
  },
  {
   "cell_type": "code",
   "execution_count": 20,
   "metadata": {
    "collapsed": false
   },
   "outputs": [
    {
     "name": "stdout",
     "output_type": "stream",
     "text": [
      "             precision    recall  f1-score   support\n",
      "\n",
      "        EMS       0.49      0.99      0.66      7673\n",
      "       Fire       0.00      0.00      0.00      2250\n",
      "    Traffic       0.29      0.01      0.02      5616\n",
      "\n",
      "avg / total       0.35      0.49      0.33     15539\n",
      "\n"
     ]
    },
    {
     "name": "stderr",
     "output_type": "stream",
     "text": [
      "C:\\Anaconda2\\lib\\site-packages\\sklearn\\metrics\\classification.py:1074: UndefinedMetricWarning: Precision and F-score are ill-defined and being set to 0.0 in labels with no predicted samples.\n",
      "  'precision', 'predicted', average, warn_for)\n"
     ]
    }
   ],
   "source": [
    "#metrics\n",
    "print metrics.classification_report(y_test, y_pred)"
   ]
  },
  {
   "cell_type": "code",
   "execution_count": 21,
   "metadata": {
    "collapsed": true
   },
   "outputs": [],
   "source": [
    "#decision tree?\n",
    "dec_tree = tree.DecisionTreeClassifier()"
   ]
  },
  {
   "cell_type": "code",
   "execution_count": 22,
   "metadata": {
    "collapsed": false
   },
   "outputs": [],
   "source": [
    "#fit and predict\n",
    "dec_tree.fit(X_train, y_train)\n",
    "y_pred = dec_tree.predict(X_test)"
   ]
  },
  {
   "cell_type": "code",
   "execution_count": 23,
   "metadata": {
    "collapsed": false
   },
   "outputs": [
    {
     "name": "stdout",
     "output_type": "stream",
     "text": [
      "             precision    recall  f1-score   support\n",
      "\n",
      "        EMS       0.61      0.61      0.61      7673\n",
      "       Fire       0.20      0.22      0.21      2250\n",
      "    Traffic       0.56      0.54      0.55      5616\n",
      "\n",
      "avg / total       0.53      0.53      0.53     15539\n",
      "\n"
     ]
    }
   ],
   "source": [
    "#metrics\n",
    "print metrics.classification_report(y_test, y_pred)"
   ]
  },
  {
   "cell_type": "code",
   "execution_count": 24,
   "metadata": {
    "collapsed": true
   },
   "outputs": [],
   "source": [
    "#Better!"
   ]
  },
  {
   "cell_type": "code",
   "execution_count": 25,
   "metadata": {
    "collapsed": true
   },
   "outputs": [],
   "source": [
    "Ada_boost = ensemble.AdaBoostClassifier(base_estimator=dec_tree)"
   ]
  },
  {
   "cell_type": "code",
   "execution_count": 26,
   "metadata": {
    "collapsed": true
   },
   "outputs": [],
   "source": [
    "#fit and predict\n",
    "Ada_boost.fit(X_train, y_train)\n",
    "y_pred = Ada_boost.predict(X_test)"
   ]
  },
  {
   "cell_type": "code",
   "execution_count": 27,
   "metadata": {
    "collapsed": false
   },
   "outputs": [
    {
     "name": "stdout",
     "output_type": "stream",
     "text": [
      "             precision    recall  f1-score   support\n",
      "\n",
      "        EMS       0.59      0.68      0.63      7673\n",
      "       Fire       0.20      0.11      0.14      2250\n",
      "    Traffic       0.53      0.51      0.52      5616\n",
      "\n",
      "avg / total       0.51      0.54      0.52     15539\n",
      "\n"
     ]
    }
   ],
   "source": [
    "#metrics\n",
    "print metrics.classification_report(y_test, y_pred)"
   ]
  },
  {
   "cell_type": "code",
   "execution_count": 28,
   "metadata": {
    "collapsed": true
   },
   "outputs": [],
   "source": [
    "bag_class = ensemble.bagging.BaggingClassifier(base_estimator=dec_tree)"
   ]
  },
  {
   "cell_type": "code",
   "execution_count": 29,
   "metadata": {
    "collapsed": true
   },
   "outputs": [],
   "source": [
    "#fit and predict\n",
    "bag_class.fit(X_train, y_train)\n",
    "y_pred = bag_class.predict(X_test)"
   ]
  },
  {
   "cell_type": "code",
   "execution_count": 30,
   "metadata": {
    "collapsed": false
   },
   "outputs": [
    {
     "name": "stdout",
     "output_type": "stream",
     "text": [
      "             precision    recall  f1-score   support\n",
      "\n",
      "        EMS       0.62      0.70      0.66      7673\n",
      "       Fire       0.21      0.14      0.17      2250\n",
      "    Traffic       0.58      0.55      0.57      5616\n",
      "\n",
      "avg / total       0.55      0.57      0.55     15539\n",
      "\n"
     ]
    }
   ],
   "source": [
    "#metrics\n",
    "print metrics.classification_report(y_test, y_pred)"
   ]
  },
  {
   "cell_type": "markdown",
   "metadata": {},
   "source": [
    "## We can use get_address to find the missing data - let's look at this"
   ]
  },
  {
   "cell_type": "code",
   "execution_count": null,
   "metadata": {
    "collapsed": true
   },
   "outputs": [],
   "source": []
  },
  {
   "cell_type": "code",
   "execution_count": 31,
   "metadata": {
    "collapsed": true
   },
   "outputs": [],
   "source": [
    "#we should get the missing data first but I've not done that yet"
   ]
  },
  {
   "cell_type": "code",
   "execution_count": 32,
   "metadata": {
    "collapsed": false
   },
   "outputs": [],
   "source": [
    "#Let's try get features from the addr column\n",
    "vectorizer = feature_extraction.text.TfidfVectorizer(min_df=3,  max_features=5000, \n",
    "        strip_accents='unicode', analyzer='word',token_pattern=r'\\w{1,}',\n",
    "        ngram_range=(1, 2), use_idf=1,smooth_idf=1,sublinear_tf=1,\n",
    "        stop_words = 'english')"
   ]
  },
  {
   "cell_type": "code",
   "execution_count": 33,
   "metadata": {
    "collapsed": false
   },
   "outputs": [],
   "source": [
    "#vectorize addr column\n",
    "addr = vectorizer.fit_transform(df.addr.astype('str'))"
   ]
  },
  {
   "cell_type": "code",
   "execution_count": 34,
   "metadata": {
    "collapsed": false
   },
   "outputs": [
    {
     "data": {
      "text/plain": [
       "(77691, 5)"
      ]
     },
     "execution_count": 34,
     "metadata": {},
     "output_type": "execute_result"
    }
   ],
   "source": [
    "X.shape"
   ]
  },
  {
   "cell_type": "code",
   "execution_count": 35,
   "metadata": {
    "collapsed": false
   },
   "outputs": [
    {
     "data": {
      "text/plain": [
       "(77691L, 5000L)"
      ]
     },
     "execution_count": 35,
     "metadata": {},
     "output_type": "execute_result"
    }
   ],
   "source": [
    "addr = addr.todense()\n",
    "addr.shape"
   ]
  },
  {
   "cell_type": "code",
   "execution_count": 36,
   "metadata": {
    "collapsed": false
   },
   "outputs": [
    {
     "data": {
      "text/plain": [
       "(77691, 5005)"
      ]
     },
     "execution_count": 36,
     "metadata": {},
     "output_type": "execute_result"
    }
   ],
   "source": [
    "New_X = pd.concat([X, pd.DataFrame(addr)], axis=1)\n",
    "New_X.shape"
   ]
  },
  {
   "cell_type": "code",
   "execution_count": 39,
   "metadata": {
    "collapsed": true
   },
   "outputs": [],
   "source": [
    "#Train test split again\n",
    "X_train, X_test, y_train, y_test = cross_validation.train_test_split(New_X, y, test_size=0.2)"
   ]
  },
  {
   "cell_type": "code",
   "execution_count": 40,
   "metadata": {
    "collapsed": false
   },
   "outputs": [],
   "source": [
    "#fit and predict\n",
    "dec_tree.fit(X_train, y_train)\n",
    "y_pred = dec_tree.predict(X_test)"
   ]
  },
  {
   "cell_type": "code",
   "execution_count": 41,
   "metadata": {
    "collapsed": false
   },
   "outputs": [
    {
     "name": "stdout",
     "output_type": "stream",
     "text": [
      "             precision    recall  f1-score   support\n",
      "\n",
      "        EMS       0.65      0.68      0.66      7589\n",
      "       Fire       0.21      0.22      0.21      2223\n",
      "    Traffic       0.67      0.62      0.65      5727\n",
      "\n",
      "avg / total       0.59      0.59      0.59     15539\n",
      "\n"
     ]
    }
   ],
   "source": [
    "#metrics\n",
    "print metrics.classification_report(y_test, y_pred)"
   ]
  },
  {
   "cell_type": "markdown",
   "metadata": {},
   "source": [
    "## If we are ready to make a submission:"
   ]
  },
  {
   "cell_type": "code",
   "execution_count": null,
   "metadata": {
    "collapsed": true
   },
   "outputs": [],
   "source": [
    "#use df_test and your best model to make predictions"
   ]
  },
  {
   "cell_type": "code",
   "execution_count": 42,
   "metadata": {
    "collapsed": true
   },
   "outputs": [],
   "source": [
    "#We need the same X features for the test data\n",
    "df_test_X = df_test[['lat','lng',]]\n",
    "df_test_X = pd.concat([df_test_X, df_test.timeStamp.dt.dayofweek, df_test.timeStamp.dt.hour, df_test.timeStamp.dt.month], axis=1)"
   ]
  },
  {
   "cell_type": "code",
   "execution_count": 43,
   "metadata": {
    "collapsed": true
   },
   "outputs": [],
   "source": [
    "#addr.transposee addr column - DO NOT FIT TRANSFORM AS WE ALREADY FIT THIS\n",
    "df_test_addr = vectorizer.transform(df_test.addr.astype('str'))"
   ]
  },
  {
   "cell_type": "code",
   "execution_count": 44,
   "metadata": {
    "collapsed": false
   },
   "outputs": [],
   "source": [
    "df_test_addr = df_test_addr.todense()\n",
    "df_test_addr = pd.DataFrame(df_test_addr, index=df_test_X.index)"
   ]
  },
  {
   "cell_type": "code",
   "execution_count": 45,
   "metadata": {
    "collapsed": true
   },
   "outputs": [],
   "source": [
    "df_test_New_X = pd.concat([df_test_X, df_test_addr], axis=1)"
   ]
  },
  {
   "cell_type": "markdown",
   "metadata": {},
   "source": [
    "### Submission format needs to be id & emergencytype"
   ]
  },
  {
   "cell_type": "code",
   "execution_count": 46,
   "metadata": {
    "collapsed": false
   },
   "outputs": [],
   "source": [
    "#make your predictions\n",
    "df_test_pred = dec_tree.predict(df_test_New_X)"
   ]
  },
  {
   "cell_type": "code",
   "execution_count": 50,
   "metadata": {
    "collapsed": false
   },
   "outputs": [],
   "source": [
    "submission = pd.DataFrame(df_test_pred, index=df_test.index, columns=['emergencytype'])"
   ]
  },
  {
   "cell_type": "code",
   "execution_count": 51,
   "metadata": {
    "collapsed": false
   },
   "outputs": [
    {
     "data": {
      "text/html": [
       "<div>\n",
       "<table border=\"1\" class=\"dataframe\">\n",
       "  <thead>\n",
       "    <tr style=\"text-align: right;\">\n",
       "      <th></th>\n",
       "      <th>emergencytype</th>\n",
       "    </tr>\n",
       "    <tr>\n",
       "      <th>id</th>\n",
       "      <th></th>\n",
       "    </tr>\n",
       "  </thead>\n",
       "  <tbody>\n",
       "    <tr>\n",
       "      <th>77691</th>\n",
       "      <td>Fire</td>\n",
       "    </tr>\n",
       "    <tr>\n",
       "      <th>77692</th>\n",
       "      <td>Fire</td>\n",
       "    </tr>\n",
       "    <tr>\n",
       "      <th>77693</th>\n",
       "      <td>Traffic</td>\n",
       "    </tr>\n",
       "    <tr>\n",
       "      <th>77694</th>\n",
       "      <td>EMS</td>\n",
       "    </tr>\n",
       "    <tr>\n",
       "      <th>77695</th>\n",
       "      <td>EMS</td>\n",
       "    </tr>\n",
       "  </tbody>\n",
       "</table>\n",
       "</div>"
      ],
      "text/plain": [
       "      emergencytype\n",
       "id                 \n",
       "77691          Fire\n",
       "77692          Fire\n",
       "77693       Traffic\n",
       "77694           EMS\n",
       "77695           EMS"
      ]
     },
     "execution_count": 51,
     "metadata": {},
     "output_type": "execute_result"
    }
   ],
   "source": [
    "submission.head()"
   ]
  },
  {
   "cell_type": "code",
   "execution_count": 52,
   "metadata": {
    "collapsed": true
   },
   "outputs": [],
   "source": [
    "submission.to_csv(\"team_911_submission.csv\")"
   ]
  },
  {
   "cell_type": "code",
   "execution_count": null,
   "metadata": {
    "collapsed": true
   },
   "outputs": [],
   "source": []
  }
 ],
 "metadata": {
  "hide_input": false,
  "kernelspec": {
   "display_name": "Python [Root]",
   "language": "python",
   "name": "Python [Root]"
  },
  "language_info": {
   "codemirror_mode": {
    "name": "ipython",
    "version": 2
   },
   "file_extension": ".py",
   "mimetype": "text/x-python",
   "name": "python",
   "nbconvert_exporter": "python",
   "pygments_lexer": "ipython2",
   "version": "2.7.12"
  }
 },
 "nbformat": 4,
 "nbformat_minor": 0
}
